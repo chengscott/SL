{
 "cells": [
  {
   "cell_type": "markdown",
   "metadata": {},
   "source": [
    "# 2. Logistic Regression"
   ]
  },
  {
   "cell_type": "code",
   "execution_count": 1,
   "metadata": {},
   "outputs": [],
   "source": [
    "import pandas as pd\n",
    "import numpy as np"
   ]
  },
  {
   "cell_type": "code",
   "execution_count": 2,
   "metadata": {},
   "outputs": [],
   "source": [
    "data = pd.read_csv('./train_MNIST_logistic_regression.csv')"
   ]
  },
  {
   "cell_type": "markdown",
   "metadata": {},
   "source": [
    "$X=\\begin{pmatrix} x_1 \\\\ \\vdots \\\\ x_n \\end{pmatrix}$"
   ]
  },
  {
   "cell_type": "code",
   "execution_count": 3,
   "metadata": {},
   "outputs": [],
   "source": [
    "# append 'Intercept' column\n",
    "Xpred = list(data.columns)\n",
    "Xpred.remove('label')\n",
    "Xcols = ['Intercept'] + Xpred\n",
    "\n",
    "n = data.shape[0]\n",
    "p = len(Xpred)\n",
    "data = data.assign(Intercept=np.ones(n))"
   ]
  },
  {
   "cell_type": "code",
   "execution_count": null,
   "metadata": {},
   "outputs": [],
   "source": [
    "X = data[Xcols]\n",
    "y = data[['label']] == 2"
   ]
  },
  {
   "cell_type": "markdown",
   "metadata": {},
   "source": [
    "### Coefficient\n",
    "$\\beta'=\\beta-\\eta J(\\beta)$"
   ]
  },
  {
   "cell_type": "code",
   "execution_count": null,
   "metadata": {},
   "outputs": [
    {
     "name": "stderr",
     "output_type": "stream",
     "text": [
      "/usr/lib/python3.6/site-packages/ipykernel_launcher.py:11: RuntimeWarning: overflow encountered in exp\n",
      "  # This is added back by InteractiveShellApp.init_path()\n"
     ]
    }
   ],
   "source": [
    "eta = 0.005\n",
    "beta = np.zeros((1 + p,))\n",
    "\n",
    "for epoch in range(10):\n",
    "    J_beta = 0\n",
    "    for i in range(n):\n",
    "        xi = X.loc[i]\n",
    "        # yi = float(y.loc[i])\n",
    "        # J_beta = J_beta + np.dot(yi - 1 / (1 + np.exp(-np.dot(beta.T, xi))), xi)\n",
    "        yi = 2 * float(y.loc[i]) - 1\n",
    "        J_beta = J_beta + np.dot(yi, xi) / (1 + np.exp(np.dot(np.dot(-yi, beta.T), xi)))\n",
    "    beta = beta - eta * J_beta"
   ]
  },
  {
   "cell_type": "markdown",
   "metadata": {},
   "source": [
    "### Logit\n",
    "$p(X)=1-\\frac{1}{1+e^{X\\beta}}$"
   ]
  },
  {
   "cell_type": "code",
   "execution_count": null,
   "metadata": {},
   "outputs": [],
   "source": [
    "result = 1 - 1 / (1 + np.exp(np.dot(X, beta)))\n",
    "pred = result < 0.5"
   ]
  },
  {
   "cell_type": "markdown",
   "metadata": {},
   "source": [
    "### Test"
   ]
  },
  {
   "cell_type": "code",
   "execution_count": null,
   "metadata": {},
   "outputs": [],
   "source": [
    "test_data = pd.read_csv('./test_MNIST_logistic_regression.csv', names=Xpred)\n",
    "test_data = test_data.assign(Intercept=np.ones(test_data.shape[0]))"
   ]
  },
  {
   "cell_type": "code",
   "execution_count": null,
   "metadata": {},
   "outputs": [],
   "source": [
    "test_result = 1 - 1 / (1 + np.exp(np.dot(test_data, beta)))\n",
    "test_result"
   ]
  },
  {
   "cell_type": "markdown",
   "metadata": {},
   "source": [
    "### Confusion Matrix"
   ]
  },
  {
   "cell_type": "code",
   "execution_count": null,
   "metadata": {},
   "outputs": [],
   "source": [
    "confusion_list = list(zip(list(y.label), list(pred)))\n",
    "cmatrix = [\n",
    "    [confusion_list.count((False, False)), confusion_list.count((False, True))],\n",
    "    [confusion_list.count((True, False)), confusion_list.count((True, True))]\n",
    "]"
   ]
  },
  {
   "cell_type": "code",
   "execution_count": null,
   "metadata": {},
   "outputs": [],
   "source": [
    "pd.DataFrame([\n",
    "    [cmatrix[0][0], cmatrix[0][1], sum(cmatrix[0])],\n",
    "    [cmatrix[1][0], cmatrix[1][1], sum(cmatrix[1])],\n",
    "    list(np.sum(cmatrix, axis=0)) + [np.sum(cmatrix)]],\n",
    "    columns=[['Confusion Matrix'] * 3, ['True class'] * 3, [0, 2, 'Total']],\n",
    "    index=[['Predicted class'] * 3, [0, 2, 'Total']]\n",
    ")"
   ]
  },
  {
   "cell_type": "markdown",
   "metadata": {},
   "source": [
    "### ROC curve"
   ]
  },
  {
   "cell_type": "code",
   "execution_count": null,
   "metadata": {},
   "outputs": [],
   "source": [
    "pt = []\n",
    "for p in np.arange(0.1, 1.0, 0.1):\n",
    "    pred = result < p\n",
    "    clist = list(zip(list(y.label), list(pred)))\n",
    "    TPR = clist.count((False, False)) / list(y.label).count(False)\n",
    "    FPR = clist.count((False, True)) / list(pred).count(True)\n",
    "    pt.append((TPR, FPR))\n",
    "pt"
   ]
  },
  {
   "cell_type": "code",
   "execution_count": null,
   "metadata": {},
   "outputs": [],
   "source": []
  }
 ],
 "metadata": {
  "kernelspec": {
   "display_name": "Python 3",
   "language": "python",
   "name": "python3"
  },
  "language_info": {
   "codemirror_mode": {
    "name": "ipython",
    "version": 3
   },
   "file_extension": ".py",
   "mimetype": "text/x-python",
   "name": "python",
   "nbconvert_exporter": "python",
   "pygments_lexer": "ipython3",
   "version": "3.6.4"
  }
 },
 "nbformat": 4,
 "nbformat_minor": 2
}
