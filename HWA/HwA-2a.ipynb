{
 "cells": [
  {
   "cell_type": "markdown",
   "metadata": {},
   "source": [
    "# 2. Logistic Regression"
   ]
  },
  {
   "cell_type": "code",
   "execution_count": 1,
   "metadata": {},
   "outputs": [],
   "source": [
    "import pandas as pd\n",
    "import numpy as np"
   ]
  },
  {
   "cell_type": "code",
   "execution_count": 2,
   "metadata": {},
   "outputs": [],
   "source": [
    "data = pd.read_csv('train_MNIST_logistic_regression.csv')"
   ]
  },
  {
   "cell_type": "markdown",
   "metadata": {},
   "source": [
    "$X=\\begin{pmatrix} x_1 \\\\ \\vdots \\\\ x_n \\end{pmatrix}$"
   ]
  },
  {
   "cell_type": "code",
   "execution_count": 3,
   "metadata": {},
   "outputs": [],
   "source": [
    "# append 'Intercept' column\n",
    "Xpred = list(data.columns)\n",
    "Xpred.remove('label')\n",
    "Xcols = ['Intercept'] + Xpred\n",
    "\n",
    "n = data.shape[0]\n",
    "p = len(Xpred)\n",
    "data = data.assign(Intercept=np.ones(n))"
   ]
  },
  {
   "cell_type": "code",
   "execution_count": 4,
   "metadata": {},
   "outputs": [],
   "source": [
    "X = data[Xcols].as_matrix()\n",
    "y = list(data.label == 2)"
   ]
  },
  {
   "cell_type": "markdown",
   "metadata": {},
   "source": [
    "### Coefficient\n",
    "$\\beta'=\\beta-\\eta J(\\beta)$"
   ]
  },
  {
   "cell_type": "code",
   "execution_count": 5,
   "metadata": {},
   "outputs": [
    {
     "name": "stderr",
     "output_type": "stream",
     "text": [
      "/usr/lib/python3.6/site-packages/ipykernel_launcher.py:10: RuntimeWarning: overflow encountered in exp\n",
      "  # Remove the CWD from sys.path while we load stuff.\n"
     ]
    }
   ],
   "source": [
    "eta = 0.005\n",
    "beta = np.zeros((1 + p,))\n",
    "\n",
    "for epoch in range(10):\n",
    "    J_beta = 0\n",
    "    for i in range(n):\n",
    "        # yi = float(y.loc[i])\n",
    "        # J_beta = J_beta + np.dot(yi - 1 / (1 + np.exp(-np.dot(beta.T, xi))), xi)\n",
    "        yi = 2 * y[i] - 1\n",
    "        J_beta = J_beta + np.dot(yi, X[i]) / (1 + np.exp(np.dot(-np.dot(yi, beta.T), X[i])))\n",
    "    beta = beta - eta * J_beta"
   ]
  },
  {
   "cell_type": "markdown",
   "metadata": {},
   "source": [
    "### Logit\n",
    "$p(X)=1-\\frac{1}{1+e^{X\\beta}}$"
   ]
  },
  {
   "cell_type": "code",
   "execution_count": 6,
   "metadata": {},
   "outputs": [
    {
     "name": "stderr",
     "output_type": "stream",
     "text": [
      "/usr/lib/python3.6/site-packages/ipykernel_launcher.py:1: RuntimeWarning: overflow encountered in exp\n",
      "  \"\"\"Entry point for launching an IPython kernel.\n"
     ]
    }
   ],
   "source": [
    "result = 1 - 1 / (1 + np.exp(np.dot(X, beta)))\n",
    "pred = result < 0.5"
   ]
  },
  {
   "cell_type": "markdown",
   "metadata": {},
   "source": [
    "### Test"
   ]
  },
  {
   "cell_type": "code",
   "execution_count": 7,
   "metadata": {},
   "outputs": [],
   "source": [
    "test_data = pd.read_csv('./test_MNIST_logistic_regression.csv', names=Xpred)\n",
    "test_data = test_data.assign(Intercept=np.ones(test_data.shape[0]))"
   ]
  },
  {
   "cell_type": "code",
   "execution_count": 8,
   "metadata": {},
   "outputs": [
    {
     "name": "stderr",
     "output_type": "stream",
     "text": [
      "/usr/lib/python3.6/site-packages/ipykernel_launcher.py:1: RuntimeWarning: overflow encountered in exp\n",
      "  \"\"\"Entry point for launching an IPython kernel.\n"
     ]
    },
    {
     "data": {
      "text/plain": [
       "array([0., 0., 1., ..., 1., 1., 1.])"
      ]
     },
     "execution_count": 8,
     "metadata": {},
     "output_type": "execute_result"
    }
   ],
   "source": [
    "test_result = 1 - 1 / (1 + np.exp(np.dot(test_data, beta)))\n",
    "test_result"
   ]
  },
  {
   "cell_type": "markdown",
   "metadata": {},
   "source": [
    "### Confusion Matrix"
   ]
  },
  {
   "cell_type": "code",
   "execution_count": 9,
   "metadata": {},
   "outputs": [],
   "source": [
    "confusion_list = list(zip(y, list(pred)))\n",
    "cmatrix = [\n",
    "    [confusion_list.count((False, False)), confusion_list.count((False, True))],\n",
    "    [confusion_list.count((True, False)), confusion_list.count((True, True))]\n",
    "]"
   ]
  },
  {
   "cell_type": "code",
   "execution_count": 10,
   "metadata": {},
   "outputs": [
    {
     "data": {
      "text/html": [
       "<div>\n",
       "<style scoped>\n",
       "    .dataframe tbody tr th:only-of-type {\n",
       "        vertical-align: middle;\n",
       "    }\n",
       "\n",
       "    .dataframe tbody tr th {\n",
       "        vertical-align: top;\n",
       "    }\n",
       "\n",
       "    .dataframe thead tr th {\n",
       "        text-align: left;\n",
       "    }\n",
       "</style>\n",
       "<table border=\"1\" class=\"dataframe\">\n",
       "  <thead>\n",
       "    <tr>\n",
       "      <th></th>\n",
       "      <th></th>\n",
       "      <th colspan=\"3\" halign=\"left\">Confusion Matrix</th>\n",
       "    </tr>\n",
       "    <tr>\n",
       "      <th></th>\n",
       "      <th></th>\n",
       "      <th colspan=\"3\" halign=\"left\">True class</th>\n",
       "    </tr>\n",
       "    <tr>\n",
       "      <th></th>\n",
       "      <th></th>\n",
       "      <th>0</th>\n",
       "      <th>2</th>\n",
       "      <th>Total</th>\n",
       "    </tr>\n",
       "  </thead>\n",
       "  <tbody>\n",
       "    <tr>\n",
       "      <th rowspan=\"3\" valign=\"top\">Predicted class</th>\n",
       "      <th>0</th>\n",
       "      <td>3405</td>\n",
       "      <td>49</td>\n",
       "      <td>3454</td>\n",
       "    </tr>\n",
       "    <tr>\n",
       "      <th>2</th>\n",
       "      <td>55</td>\n",
       "      <td>3490</td>\n",
       "      <td>3545</td>\n",
       "    </tr>\n",
       "    <tr>\n",
       "      <th>Total</th>\n",
       "      <td>3460</td>\n",
       "      <td>3539</td>\n",
       "      <td>6999</td>\n",
       "    </tr>\n",
       "  </tbody>\n",
       "</table>\n",
       "</div>"
      ],
      "text/plain": [
       "                      Confusion Matrix            \n",
       "                            True class            \n",
       "                                     0     2 Total\n",
       "Predicted class 0                 3405    49  3454\n",
       "                2                   55  3490  3545\n",
       "                Total             3460  3539  6999"
      ]
     },
     "execution_count": 10,
     "metadata": {},
     "output_type": "execute_result"
    }
   ],
   "source": [
    "pd.DataFrame([\n",
    "    [cmatrix[0][0], cmatrix[0][1], sum(cmatrix[0])],\n",
    "    [cmatrix[1][0], cmatrix[1][1], sum(cmatrix[1])],\n",
    "    list(np.sum(cmatrix, axis=0)) + [np.sum(cmatrix)]],\n",
    "    columns=[['Confusion Matrix'] * 3, ['True class'] * 3, [0, 2, 'Total']],\n",
    "    index=[['Predicted class'] * 3, [0, 2, 'Total']]\n",
    ")"
   ]
  },
  {
   "cell_type": "markdown",
   "metadata": {},
   "source": [
    "### ROC curve"
   ]
  },
  {
   "cell_type": "code",
   "execution_count": 11,
   "metadata": {},
   "outputs": [
    {
     "data": {
      "text/plain": [
       "[(0.9858135495078171, 0.013845719129697655),\n",
       " (0.9858135495078171, 0.013845719129697655),\n",
       " (0.9858135495078171, 0.013845719129697655),\n",
       " (0.9858135495078171, 0.013845719129697655),\n",
       " (0.9858135495078171, 0.013845719129697655),\n",
       " (0.9858135495078171, 0.013845719129697655),\n",
       " (0.9858135495078171, 0.013845719129697655),\n",
       " (0.9858135495078171, 0.013845719129697655),\n",
       " (0.9858135495078171, 0.013845719129697655)]"
      ]
     },
     "execution_count": 11,
     "metadata": {},
     "output_type": "execute_result"
    }
   ],
   "source": [
    "pt = []\n",
    "for p in np.arange(0.1, 1.0, 0.1):\n",
    "    pred = result < p\n",
    "    clist = list(zip(y, list(pred)))\n",
    "    TPR = clist.count((False, False)) / y.count(False)\n",
    "    FPR = clist.count((False, True)) / list(pred).count(True)\n",
    "    pt.append((TPR, FPR))\n",
    "pt"
   ]
  },
  {
   "cell_type": "code",
   "execution_count": null,
   "metadata": {},
   "outputs": [],
   "source": []
  }
 ],
 "metadata": {
  "kernelspec": {
   "display_name": "Python 3",
   "language": "python",
   "name": "python3"
  },
  "language_info": {
   "codemirror_mode": {
    "name": "ipython",
    "version": 3
   },
   "file_extension": ".py",
   "mimetype": "text/x-python",
   "name": "python",
   "nbconvert_exporter": "python",
   "pygments_lexer": "ipython3",
   "version": "3.6.4"
  }
 },
 "nbformat": 4,
 "nbformat_minor": 2
}
