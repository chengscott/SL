{
 "cells": [
  {
   "cell_type": "markdown",
   "metadata": {},
   "source": [
    "# 2.a Logistic Regression"
   ]
  },
  {
   "cell_type": "code",
   "execution_count": 1,
   "metadata": {},
   "outputs": [],
   "source": [
    "import pandas as pd\n",
    "import numpy as np\n",
    "import pygal"
   ]
  },
  {
   "cell_type": "code",
   "execution_count": 2,
   "metadata": {},
   "outputs": [],
   "source": [
    "data = pd.read_csv('train_MNIST_logistic_regression.csv')"
   ]
  },
  {
   "cell_type": "markdown",
   "metadata": {},
   "source": [
    "$X=\\begin{pmatrix} x_1 \\\\ \\vdots \\\\ x_n \\end{pmatrix}$"
   ]
  },
  {
   "cell_type": "code",
   "execution_count": 3,
   "metadata": {},
   "outputs": [],
   "source": [
    "# append 'Intercept' column\n",
    "Xpred = list(data.columns)\n",
    "Xpred.remove('label')\n",
    "Xcols = ['Intercept'] + Xpred\n",
    "\n",
    "n = data.shape[0]\n",
    "p = len(Xpred)\n",
    "data = data.assign(Intercept=np.ones(n))"
   ]
  },
  {
   "cell_type": "code",
   "execution_count": 4,
   "metadata": {},
   "outputs": [],
   "source": [
    "X = data[Xcols].as_matrix()\n",
    "y = list(data.label == 2)"
   ]
  },
  {
   "cell_type": "markdown",
   "metadata": {},
   "source": [
    "### Coefficient\n",
    "$\\beta'=\\beta-\\eta\\nabla J(\\beta)$"
   ]
  },
  {
   "cell_type": "code",
   "execution_count": 5,
   "metadata": {},
   "outputs": [
    {
     "name": "stderr",
     "output_type": "stream",
     "text": [
      "/usr/lib/python3.6/site-packages/ipykernel_launcher.py:8: RuntimeWarning: overflow encountered in exp\n",
      "  \n"
     ]
    }
   ],
   "source": [
    "eta = 0.005\n",
    "beta = np.zeros((1 + p,))\n",
    "\n",
    "for epoch in range(100):\n",
    "    J_beta = 0\n",
    "    for i in range(n):\n",
    "        yi = 2 * y[i] - 1\n",
    "        J_beta = J_beta + np.dot(yi, X[i]) / (1 + np.exp(np.dot(np.dot(yi, beta.T), X[i])))\n",
    "    beta = beta + eta * J_beta"
   ]
  },
  {
   "cell_type": "markdown",
   "metadata": {},
   "source": [
    "### Logit\n",
    "$p(X)=\\frac{1}{1+e^{-X\\beta}}$"
   ]
  },
  {
   "cell_type": "code",
   "execution_count": 6,
   "metadata": {},
   "outputs": [
    {
     "name": "stderr",
     "output_type": "stream",
     "text": [
      "/usr/lib/python3.6/site-packages/ipykernel_launcher.py:1: RuntimeWarning: overflow encountered in exp\n",
      "  \"\"\"Entry point for launching an IPython kernel.\n"
     ]
    }
   ],
   "source": [
    "train_result = 1 / (1 + np.exp(-np.dot(X, beta)))"
   ]
  },
  {
   "cell_type": "markdown",
   "metadata": {},
   "source": [
    "### Test"
   ]
  },
  {
   "cell_type": "code",
   "execution_count": 7,
   "metadata": {},
   "outputs": [],
   "source": [
    "test_data = pd.read_csv('test_MNIST_logistic_regression.csv', names=Xpred)\n",
    "label_data = pd.read_csv('label_MNIST_logistic_regression.csv', header=None)"
   ]
  },
  {
   "cell_type": "code",
   "execution_count": 8,
   "metadata": {},
   "outputs": [],
   "source": [
    "test_data = test_data.assign(Intercept=np.ones(test_data.shape[0]))\n",
    "test_label = list(label_data[0] == 2)"
   ]
  },
  {
   "cell_type": "code",
   "execution_count": 9,
   "metadata": {
    "scrolled": true
   },
   "outputs": [
    {
     "name": "stderr",
     "output_type": "stream",
     "text": [
      "/usr/lib/python3.6/site-packages/ipykernel_launcher.py:1: RuntimeWarning: overflow encountered in exp\n",
      "  \"\"\"Entry point for launching an IPython kernel.\n"
     ]
    }
   ],
   "source": [
    "test_result = 1 / (1 + np.exp(-np.dot(test_data, beta)))\n",
    "pred = [x > 0.5 for x in test_result]"
   ]
  },
  {
   "cell_type": "markdown",
   "metadata": {},
   "source": [
    "### Confusion Matrix"
   ]
  },
  {
   "cell_type": "code",
   "execution_count": 10,
   "metadata": {},
   "outputs": [],
   "source": [
    "confusion_list = list(zip(test_label, pred))\n",
    "cmatrix = [[confusion_list.count((k1, k2)) for k2 in [False, True]] for k1 in [False, True]]"
   ]
  },
  {
   "cell_type": "code",
   "execution_count": 11,
   "metadata": {},
   "outputs": [
    {
     "data": {
      "text/html": [
       "<div>\n",
       "<style scoped>\n",
       "    .dataframe tbody tr th:only-of-type {\n",
       "        vertical-align: middle;\n",
       "    }\n",
       "\n",
       "    .dataframe tbody tr th {\n",
       "        vertical-align: top;\n",
       "    }\n",
       "\n",
       "    .dataframe thead tr th {\n",
       "        text-align: left;\n",
       "    }\n",
       "</style>\n",
       "<table border=\"1\" class=\"dataframe\">\n",
       "  <thead>\n",
       "    <tr>\n",
       "      <th></th>\n",
       "      <th></th>\n",
       "      <th colspan=\"3\" halign=\"left\">Confusion Matrix</th>\n",
       "    </tr>\n",
       "    <tr>\n",
       "      <th></th>\n",
       "      <th></th>\n",
       "      <th colspan=\"3\" halign=\"left\">True class</th>\n",
       "    </tr>\n",
       "    <tr>\n",
       "      <th></th>\n",
       "      <th></th>\n",
       "      <th>0</th>\n",
       "      <th>2</th>\n",
       "      <th>Total</th>\n",
       "    </tr>\n",
       "  </thead>\n",
       "  <tbody>\n",
       "    <tr>\n",
       "      <th rowspan=\"3\" valign=\"top\">Predicted class</th>\n",
       "      <th>0</th>\n",
       "      <td>632</td>\n",
       "      <td>46</td>\n",
       "      <td>678</td>\n",
       "    </tr>\n",
       "    <tr>\n",
       "      <th>2</th>\n",
       "      <td>14</td>\n",
       "      <td>618</td>\n",
       "      <td>632</td>\n",
       "    </tr>\n",
       "    <tr>\n",
       "      <th>Total</th>\n",
       "      <td>646</td>\n",
       "      <td>664</td>\n",
       "      <td>1310</td>\n",
       "    </tr>\n",
       "  </tbody>\n",
       "</table>\n",
       "</div>"
      ],
      "text/plain": [
       "                      Confusion Matrix           \n",
       "                            True class           \n",
       "                                     0    2 Total\n",
       "Predicted class 0                  632   46   678\n",
       "                2                   14  618   632\n",
       "                Total              646  664  1310"
      ]
     },
     "execution_count": 11,
     "metadata": {},
     "output_type": "execute_result"
    }
   ],
   "source": [
    "pd.DataFrame([\n",
    "    *[[*cmatrix[i], sum(cmatrix[i])] for i in range(2)],\n",
    "    list(np.sum(cmatrix, axis=0)) + [np.sum(cmatrix)]],\n",
    "    columns=[['Confusion Matrix'] * 3, ['True class'] * 3, [0, 2, 'Total']],\n",
    "    index=[['Predicted class'] * 3, [0, 2, 'Total']]\n",
    ")"
   ]
  },
  {
   "cell_type": "markdown",
   "metadata": {},
   "source": [
    "### ROC curve"
   ]
  },
  {
   "cell_type": "code",
   "execution_count": 12,
   "metadata": {},
   "outputs": [],
   "source": [
    "pt = [(0, 0)]\n",
    "for p in np.arange(0.1, 1.0, 0.1):\n",
    "    pred = [x > p for x in test_result]\n",
    "    clist = list(zip(test_label, pred))\n",
    "    TPR = clist.count((False, False)) / test_label.count(False)\n",
    "    FPR = clist.count((True, False)) / test_label.count(True)\n",
    "    pt.append((FPR, TPR))\n",
    "pt.append((1, 1))"
   ]
  },
  {
   "cell_type": "code",
   "execution_count": 13,
   "metadata": {},
   "outputs": [
    {
     "data": {
      "image/png": "[encoded data removed]",
      "image/svg+xml": [
       "<svg xmlns:xlink=\"http://www.w3.org/1999/xlink\" class=\"pygal-chart\" id=\"chart-2bfdd87e-cbeb-487a-99f3-3156ddcecf32\" viewBox=\"0 0 800 600\" xmlns=\"http://www.w3.org/2000/svg\"><!--Generated with pygal 2.4.0 (etree) ©Kozea 2012-2016 on 2018-04-17--><!--http://pygal.org--><!--http://github.com/Kozea/pygal--><defs><style type=\"text/css\">#chart-2bfdd87e-cbeb-487a-99f3-3156ddcecf32{-webkit-user-select:none;-webkit-font-smoothing:antialiased;font-family:Consolas,\"Liberation Mono\",Menlo,Courier,monospace}#chart-2bfdd87e-cbeb-487a-99f3-3156ddcecf32 .title{font-family:Consolas,\"Liberation Mono\",Menlo,Courier,monospace;font-size:16px}#chart-2bfdd87e-cbeb-487a-99f3-3156ddcecf32 .legends .legend text{font-family:Consolas,\"Liberation Mono\",Menlo,Courier,monospace;font-size:14px}#chart-2bfdd87e-cbeb-487a-99f3-3156ddcecf32 .axis text{font-family:Consolas,\"Liberation Mono\",Menlo,Courier,monospace;font-size:10px}#chart-2bfdd87e-cbeb-487a-99f3-3156ddcecf32 .axis text.major{font-family:Consolas,\"Liberation Mono\",Menlo,Courier,monospace;font-size:10px}#chart-2bfdd87e-cbeb-487a-99f3-3156ddcecf32 .text-overlay text.value{font-family:Consolas,\"Liberation Mono\",Menlo,Courier,monospace;font-size:16px}#chart-2bfdd87e-cbeb-487a-99f3-3156ddcecf32 .text-overlay text.label{font-family:Consolas,\"Liberation Mono\",Menlo,Courier,monospace;font-size:10px}#chart-2bfdd87e-cbeb-487a-99f3-3156ddcecf32 .tooltip{font-family:Consolas,\"Liberation Mono\",Menlo,Courier,monospace;font-size:14px}#chart-2bfdd87e-cbeb-487a-99f3-3156ddcecf32 text.no_data{font-family:Consolas,\"Liberation Mono\",Menlo,Courier,monospace;font-size:64px}\n",
       "#chart-2bfdd87e-cbeb-487a-99f3-3156ddcecf32{background-color:rgba(249,249,249,1)}#chart-2bfdd87e-cbeb-487a-99f3-3156ddcecf32 path,#chart-2bfdd87e-cbeb-487a-99f3-3156ddcecf32 line,#chart-2bfdd87e-cbeb-487a-99f3-3156ddcecf32 rect,#chart-2bfdd87e-cbeb-487a-99f3-3156ddcecf32 circle{-webkit-transition:150ms;-moz-transition:150ms;transition:150ms}#chart-2bfdd87e-cbeb-487a-99f3-3156ddcecf32 .graph &gt; .background{fill:rgba(249,249,249,1)}#chart-2bfdd87e-cbeb-487a-99f3-3156ddcecf32 .plot &gt; .background{fill:rgba(255,255,255,1)}#chart-2bfdd87e-cbeb-487a-99f3-3156ddcecf32 .graph{fill:rgba(0,0,0,.87)}#chart-2bfdd87e-cbeb-487a-99f3-3156ddcecf32 text.no_data{fill:rgba(0,0,0,1)}#chart-2bfdd87e-cbeb-487a-99f3-3156ddcecf32 .title{fill:rgba(0,0,0,1)}#chart-2bfdd87e-cbeb-487a-99f3-3156ddcecf32 .legends .legend text{fill:rgba(0,0,0,.87)}#chart-2bfdd87e-cbeb-487a-99f3-3156ddcecf32 .legends .legend:hover text{fill:rgba(0,0,0,1)}#chart-2bfdd87e-cbeb-487a-99f3-3156ddcecf32 .axis .line{stroke:rgba(0,0,0,1)}#chart-2bfdd87e-cbeb-487a-99f3-3156ddcecf32 .axis .guide.line{stroke:rgba(0,0,0,.54)}#chart-2bfdd87e-cbeb-487a-99f3-3156ddcecf32 .axis .major.line{stroke:rgba(0,0,0,.87)}#chart-2bfdd87e-cbeb-487a-99f3-3156ddcecf32 .axis text.major{fill:rgba(0,0,0,1)}#chart-2bfdd87e-cbeb-487a-99f3-3156ddcecf32 .axis.y .guides:hover .guide.line,#chart-2bfdd87e-cbeb-487a-99f3-3156ddcecf32 .line-graph .axis.x .guides:hover .guide.line,#chart-2bfdd87e-cbeb-487a-99f3-3156ddcecf32 .stackedline-graph .axis.x .guides:hover .guide.line,#chart-2bfdd87e-cbeb-487a-99f3-3156ddcecf32 .xy-graph .axis.x .guides:hover .guide.line{stroke:rgba(0,0,0,1)}#chart-2bfdd87e-cbeb-487a-99f3-3156ddcecf32 .axis .guides:hover text{fill:rgba(0,0,0,1)}#chart-2bfdd87e-cbeb-487a-99f3-3156ddcecf32 .reactive{fill-opacity:.7;stroke-opacity:.8}#chart-2bfdd87e-cbeb-487a-99f3-3156ddcecf32 .ci{stroke:rgba(0,0,0,.87)}#chart-2bfdd87e-cbeb-487a-99f3-3156ddcecf32 .reactive.active,#chart-2bfdd87e-cbeb-487a-99f3-3156ddcecf32 .active .reactive{fill-opacity:.8;stroke-opacity:.9;stroke-width:4}#chart-2bfdd87e-cbeb-487a-99f3-3156ddcecf32 .ci .reactive.active{stroke-width:1.5}#chart-2bfdd87e-cbeb-487a-99f3-3156ddcecf32 .series text{fill:rgba(0,0,0,1)}#chart-2bfdd87e-cbeb-487a-99f3-3156ddcecf32 .tooltip rect{fill:rgba(255,255,255,1);stroke:rgba(0,0,0,1);-webkit-transition:opacity 150ms;-moz-transition:opacity 150ms;transition:opacity 150ms}#chart-2bfdd87e-cbeb-487a-99f3-3156ddcecf32 .tooltip .label{fill:rgba(0,0,0,.87)}#chart-2bfdd87e-cbeb-487a-99f3-3156ddcecf32 .tooltip .label{fill:rgba(0,0,0,.87)}#chart-2bfdd87e-cbeb-487a-99f3-3156ddcecf32 .tooltip .legend{font-size:.8em;fill:rgba(0,0,0,.54)}#chart-2bfdd87e-cbeb-487a-99f3-3156ddcecf32 .tooltip .x_label{font-size:.6em;fill:rgba(0,0,0,1)}#chart-2bfdd87e-cbeb-487a-99f3-3156ddcecf32 .tooltip .xlink{font-size:.5em;text-decoration:underline}#chart-2bfdd87e-cbeb-487a-99f3-3156ddcecf32 .tooltip .value{font-size:1.5em}#chart-2bfdd87e-cbeb-487a-99f3-3156ddcecf32 .bound{font-size:.5em}#chart-2bfdd87e-cbeb-487a-99f3-3156ddcecf32 .max-value{font-size:.75em;fill:rgba(0,0,0,.54)}#chart-2bfdd87e-cbeb-487a-99f3-3156ddcecf32 .map-element{fill:rgba(255,255,255,1);stroke:rgba(0,0,0,.54) !important}#chart-2bfdd87e-cbeb-487a-99f3-3156ddcecf32 .map-element .reactive{fill-opacity:inherit;stroke-opacity:inherit}#chart-2bfdd87e-cbeb-487a-99f3-3156ddcecf32 .color-0,#chart-2bfdd87e-cbeb-487a-99f3-3156ddcecf32 .color-0 a:visited{stroke:#F44336;fill:#F44336}#chart-2bfdd87e-cbeb-487a-99f3-3156ddcecf32 .color-1,#chart-2bfdd87e-cbeb-487a-99f3-3156ddcecf32 .color-1 a:visited{stroke:#3F51B5;fill:#3F51B5}#chart-2bfdd87e-cbeb-487a-99f3-3156ddcecf32 .text-overlay .color-0 text{fill:black}#chart-2bfdd87e-cbeb-487a-99f3-3156ddcecf32 .text-overlay .color-1 text{fill:black}#chart-2bfdd87e-cbeb-487a-99f3-3156ddcecf32 .series.serie-1{stroke-width:3;stroke-dasharray:10}\n",
       "#chart-2bfdd87e-cbeb-487a-99f3-3156ddcecf32 text.no_data{text-anchor:middle}#chart-2bfdd87e-cbeb-487a-99f3-3156ddcecf32 .guide.line{fill:none}#chart-2bfdd87e-cbeb-487a-99f3-3156ddcecf32 .centered{text-anchor:middle}#chart-2bfdd87e-cbeb-487a-99f3-3156ddcecf32 .title{text-anchor:middle}#chart-2bfdd87e-cbeb-487a-99f3-3156ddcecf32 .legends .legend text{fill-opacity:1}#chart-2bfdd87e-cbeb-487a-99f3-3156ddcecf32 .axis.x text{text-anchor:middle}#chart-2bfdd87e-cbeb-487a-99f3-3156ddcecf32 .axis.x:not(.web) text[transform]{text-anchor:start}#chart-2bfdd87e-cbeb-487a-99f3-3156ddcecf32 .axis.x:not(.web) text[transform].backwards{text-anchor:end}#chart-2bfdd87e-cbeb-487a-99f3-3156ddcecf32 .axis.y text{text-anchor:end}#chart-2bfdd87e-cbeb-487a-99f3-3156ddcecf32 .axis.y text[transform].backwards{text-anchor:start}#chart-2bfdd87e-cbeb-487a-99f3-3156ddcecf32 .axis.y2 text{text-anchor:start}#chart-2bfdd87e-cbeb-487a-99f3-3156ddcecf32 .axis.y2 text[transform].backwards{text-anchor:end}#chart-2bfdd87e-cbeb-487a-99f3-3156ddcecf32 .axis .guide.line{stroke-dasharray:4,4}#chart-2bfdd87e-cbeb-487a-99f3-3156ddcecf32 .axis .major.guide.line{stroke-dasharray:6,6}#chart-2bfdd87e-cbeb-487a-99f3-3156ddcecf32 .horizontal .axis.y .guide.line,#chart-2bfdd87e-cbeb-487a-99f3-3156ddcecf32 .horizontal .axis.y2 .guide.line,#chart-2bfdd87e-cbeb-487a-99f3-3156ddcecf32 .vertical .axis.x .guide.line{opacity:0}#chart-2bfdd87e-cbeb-487a-99f3-3156ddcecf32 .horizontal .axis.always_show .guide.line,#chart-2bfdd87e-cbeb-487a-99f3-3156ddcecf32 .vertical .axis.always_show .guide.line{opacity:1 !important}#chart-2bfdd87e-cbeb-487a-99f3-3156ddcecf32 .axis.y .guides:hover .guide.line,#chart-2bfdd87e-cbeb-487a-99f3-3156ddcecf32 .axis.y2 .guides:hover .guide.line,#chart-2bfdd87e-cbeb-487a-99f3-3156ddcecf32 .axis.x .guides:hover .guide.line{opacity:1}#chart-2bfdd87e-cbeb-487a-99f3-3156ddcecf32 .axis .guides:hover text{opacity:1}#chart-2bfdd87e-cbeb-487a-99f3-3156ddcecf32 .nofill{fill:none}#chart-2bfdd87e-cbeb-487a-99f3-3156ddcecf32 .subtle-fill{fill-opacity:.2}#chart-2bfdd87e-cbeb-487a-99f3-3156ddcecf32 .dot{stroke-width:1px;fill-opacity:1}#chart-2bfdd87e-cbeb-487a-99f3-3156ddcecf32 .dot.active{stroke-width:5px}#chart-2bfdd87e-cbeb-487a-99f3-3156ddcecf32 .dot.negative{fill:transparent}#chart-2bfdd87e-cbeb-487a-99f3-3156ddcecf32 text,#chart-2bfdd87e-cbeb-487a-99f3-3156ddcecf32 tspan{stroke:none !important}#chart-2bfdd87e-cbeb-487a-99f3-3156ddcecf32 .series text.active{opacity:1}#chart-2bfdd87e-cbeb-487a-99f3-3156ddcecf32 .tooltip rect{fill-opacity:.95;stroke-width:.5}#chart-2bfdd87e-cbeb-487a-99f3-3156ddcecf32 .tooltip text{fill-opacity:1}#chart-2bfdd87e-cbeb-487a-99f3-3156ddcecf32 .showable{visibility:hidden}#chart-2bfdd87e-cbeb-487a-99f3-3156ddcecf32 .showable.shown{visibility:visible}#chart-2bfdd87e-cbeb-487a-99f3-3156ddcecf32 .gauge-background{fill:rgba(229,229,229,1);stroke:none}#chart-2bfdd87e-cbeb-487a-99f3-3156ddcecf32 .bg-lines{stroke:rgba(249,249,249,1);stroke-width:2px}</style><script type=\"text/javascript\">window.pygal = window.pygal || {};window.pygal.config = window.pygal.config || {};window.pygal.config['2bfdd87e-cbeb-487a-99f3-3156ddcecf32'] = {\"allow_interruptions\": false, \"box_mode\": \"extremes\", \"classes\": [\"pygal-chart\"], \"css\": [\"file://style.css\", \"file://graph.css\"], \"defs\": [], \"disable_xml_declaration\": true, \"dots_size\": 2.5, \"dynamic_print_values\": false, \"explicit_size\": false, \"fill\": false, \"force_uri_protocol\": \"https\", \"formatter\": null, \"half_pie\": false, \"height\": 600, \"include_x_axis\": false, \"inner_radius\": 0, \"interpolate\": null, \"interpolation_parameters\": {}, \"interpolation_precision\": 250, \"inverse_y_axis\": false, \"js\": [\"//kozea.github.io/pygal.js/2.0.x/pygal-tooltips.min.js\"], \"legend_at_bottom\": false, \"legend_at_bottom_columns\": null, \"legend_box_size\": 12, \"logarithmic\": false, \"margin\": 20, \"margin_bottom\": null, \"margin_left\": null, \"margin_right\": null, \"margin_top\": null, \"max_scale\": 16, \"min_scale\": 4, \"missing_value_fill_truncation\": \"x\", \"no_data_text\": \"No data\", \"no_prefix\": false, \"order_min\": null, \"pretty_print\": false, \"print_labels\": false, \"print_values\": false, \"print_values_position\": \"center\", \"print_zeroes\": true, \"range\": null, \"rounded_bars\": null, \"secondary_range\": null, \"show_dots\": true, \"show_legend\": true, \"show_minor_x_labels\": true, \"show_minor_y_labels\": true, \"show_only_major_dots\": false, \"show_x_guides\": false, \"show_x_labels\": true, \"show_y_guides\": true, \"show_y_labels\": true, \"spacing\": 10, \"stack_from_top\": false, \"strict\": false, \"stroke\": true, \"stroke_style\": null, \"style\": {\"background\": \"rgba(249, 249, 249, 1)\", \"ci_colors\": [], \"colors\": [\"#F44336\", \"#3F51B5\", \"#009688\", \"#FFC107\", \"#FF5722\", \"#9C27B0\", \"#03A9F4\", \"#8BC34A\", \"#FF9800\", \"#E91E63\", \"#2196F3\", \"#4CAF50\", \"#FFEB3B\", \"#673AB7\", \"#00BCD4\", \"#CDDC39\", \"#9E9E9E\", \"#607D8B\"], \"font_family\": \"Consolas, \\\"Liberation Mono\\\", Menlo, Courier, monospace\", \"foreground\": \"rgba(0, 0, 0, .87)\", \"foreground_strong\": \"rgba(0, 0, 0, 1)\", \"foreground_subtle\": \"rgba(0, 0, 0, .54)\", \"guide_stroke_dasharray\": \"4,4\", \"label_font_family\": \"Consolas, \\\"Liberation Mono\\\", Menlo, Courier, monospace\", \"label_font_size\": 10, \"legend_font_family\": \"Consolas, \\\"Liberation Mono\\\", Menlo, Courier, monospace\", \"legend_font_size\": 14, \"major_guide_stroke_dasharray\": \"6,6\", \"major_label_font_family\": \"Consolas, \\\"Liberation Mono\\\", Menlo, Courier, monospace\", \"major_label_font_size\": 10, \"no_data_font_family\": \"Consolas, \\\"Liberation Mono\\\", Menlo, Courier, monospace\", \"no_data_font_size\": 64, \"opacity\": \".7\", \"opacity_hover\": \".8\", \"plot_background\": \"rgba(255, 255, 255, 1)\", \"stroke_opacity\": \".8\", \"stroke_opacity_hover\": \".9\", \"title_font_family\": \"Consolas, \\\"Liberation Mono\\\", Menlo, Courier, monospace\", \"title_font_size\": 16, \"tooltip_font_family\": \"Consolas, \\\"Liberation Mono\\\", Menlo, Courier, monospace\", \"tooltip_font_size\": 14, \"transition\": \"150ms\", \"value_background\": \"rgba(229, 229, 229, 1)\", \"value_colors\": [], \"value_font_family\": \"Consolas, \\\"Liberation Mono\\\", Menlo, Courier, monospace\", \"value_font_size\": 16, \"value_label_font_family\": \"Consolas, \\\"Liberation Mono\\\", Menlo, Courier, monospace\", \"value_label_font_size\": 10}, \"title\": \"ROC curve\", \"tooltip_border_radius\": 0, \"tooltip_fancy_mode\": true, \"truncate_label\": null, \"truncate_legend\": null, \"width\": 800, \"x_label_rotation\": 0, \"x_labels\": null, \"x_labels_major\": null, \"x_labels_major_count\": null, \"x_labels_major_every\": null, \"x_title\": \"False Positive Rate\", \"xrange\": null, \"y_label_rotation\": 0, \"y_labels\": null, \"y_labels_major\": null, \"y_labels_major_count\": null, \"y_labels_major_every\": null, \"y_title\": \"True Positive Rate\", \"zero\": 0, \"legends\": [\"ROC curve\", \"by chance\"]}</script><script type=\"text/javascript\" xlink:href=\"https://kozea.github.io/pygal.js/2.0.x/pygal-tooltips.min.js\" /></defs><title>ROC curve</title><g class=\"graph xy-graph vertical\"><rect class=\"background\" height=\"600\" width=\"800\" x=\"0\" y=\"0\" /><g class=\"plot\" transform=\"translate(171, 46)\"><rect class=\"background\" height=\"488\" width=\"608.4\" x=\"0\" y=\"0\" /><g class=\"axis y always_show\"><g class=\"guides\"><path class=\"axis major line\" d=\"M0.000000 478.615385 h608.400000\" /><text class=\"major\" x=\"-5\" y=\"482.11538461538464\">0</text><title>0</title></g><g class=\"guides\"><path class=\"guide line\" d=\"M0.000000 431.692308 h608.400000\" /><text class=\"\" x=\"-5\" y=\"435.1923076923077\">0.1</text><title>0.1</title></g><g class=\"guides\"><path class=\"guide line\" d=\"M0.000000 384.769231 h608.400000\" /><text class=\"\" x=\"-5\" y=\"388.2692307692308\">0.2</text><title>0.2</title></g><g class=\"guides\"><path class=\"guide line\" d=\"M0.000000 337.846154 h608.400000\" /><text class=\"\" x=\"-5\" y=\"341.34615384615387\">0.3</text><title>0.3</title></g><g class=\"guides\"><path class=\"guide line\" d=\"M0.000000 290.923077 h608.400000\" /><text class=\"\" x=\"-5\" y=\"294.4230769230769\">0.4</text><title>0.4</title></g><g class=\"guides\"><path class=\"major guide line\" d=\"M0.000000 244.000000 h608.400000\" /><text class=\"major\" x=\"-5\" y=\"247.5\">0.5</text><title>0.5</title></g><g class=\"guides\"><path class=\"guide line\" d=\"M0.000000 197.076923 h608.400000\" /><text class=\"\" x=\"-5\" y=\"200.5769230769231\">0.6</text><title>0.6</title></g><g class=\"guides\"><path class=\"guide line\" d=\"M0.000000 150.153846 h608.400000\" /><text class=\"\" x=\"-5\" y=\"153.65384615384613\">0.7</text><title>0.7</title></g><g class=\"guides\"><path class=\"guide line\" d=\"M0.000000 103.230769 h608.400000\" /><text class=\"\" x=\"-5\" y=\"106.73076923076923\">0.8</text><title>0.8</title></g><g class=\"guides\"><path class=\"guide line\" d=\"M0.000000 56.307692 h608.400000\" /><text class=\"\" x=\"-5\" y=\"59.807692307692264\">0.9</text><title>0.9</title></g><g class=\"guides\"><path class=\"major guide line\" d=\"M0.000000 9.384615 h608.400000\" /><text class=\"major\" x=\"-5\" y=\"12.884615384615415\">1</text><title>1</title></g></g><g class=\"axis x\"><g class=\"guides\"><path class=\"axis line\" d=\"M11.700000 0.000000 v488.000000\" /><text class=\"\" x=\"11.7\" y=\"503.0\">0</text><title>0</title></g><g class=\"guides\"><path class=\"guide line\" d=\"M70.200000 0.000000 v488.000000\" /><text class=\"\" x=\"70.2\" y=\"503.0\">0.1</text><title>0.1</title></g><g class=\"guides\"><path class=\"guide line\" d=\"M128.700000 0.000000 v488.000000\" /><text class=\"\" x=\"128.7\" y=\"503.0\">0.2</text><title>0.2</title></g><g class=\"guides\"><path class=\"guide line\" d=\"M187.200000 0.000000 v488.000000\" /><text class=\"\" x=\"187.2\" y=\"503.0\">0.3</text><title>0.3</title></g><g class=\"guides\"><path class=\"guide line\" d=\"M245.700000 0.000000 v488.000000\" /><text class=\"\" x=\"245.70000000000002\" y=\"503.0\">0.4</text><title>0.4</title></g><g class=\"guides\"><path class=\"guide line\" d=\"M304.200000 0.000000 v488.000000\" /><text class=\"\" x=\"304.2\" y=\"503.0\">0.5</text><title>0.5</title></g><g class=\"guides\"><path class=\"guide line\" d=\"M362.700000 0.000000 v488.000000\" /><text class=\"\" x=\"362.69999999999993\" y=\"503.0\">0.6</text><title>0.6</title></g><g class=\"guides\"><path class=\"guide line\" d=\"M421.200000 0.000000 v488.000000\" /><text class=\"\" x=\"421.19999999999993\" y=\"503.0\">0.7</text><title>0.7</title></g><g class=\"guides\"><path class=\"guide line\" d=\"M479.700000 0.000000 v488.000000\" /><text class=\"\" x=\"479.7\" y=\"503.0\">0.8</text><title>0.8</title></g><g class=\"guides\"><path class=\"guide line\" d=\"M538.200000 0.000000 v488.000000\" /><text class=\"\" x=\"538.1999999999999\" y=\"503.0\">0.9</text><title>0.9</title></g><g class=\"guides\"><path class=\"guide line\" d=\"M596.700000 0.000000 v488.000000\" /><text class=\"\" x=\"596.6999999999999\" y=\"503.0\">1</text><title>1</title></g></g><g class=\"series serie-0 color-0\"><path class=\"line reactive nofill\" d=\"M11.700000 478.615385 L24.658861 41.220331 24.658861 41.220331 24.658861 41.220331 24.658861 41.220331 24.658861 41.220331 24.658861 41.220331 24.658861 41.220331 24.658861 41.220331 24.658861 41.220331 596.700000 9.384615\" /></g><g class=\"series serie-1 color-1\"><path class=\"line reactive nofill\" d=\"M11.700000 478.615385 L596.700000 9.384615\" /></g></g><g class=\"titles\"><text class=\"title plot_title\" x=\"400.0\" y=\"26\">ROC curve</text><text class=\"title\" x=\"475.79999999999995\" y=\"580\">False Positive Rate</text><text class=\"title\" transform=\"rotate(-90 97.600000 290.000000)\" x=\"97.6\" y=\"316.0\">True Positive Rate</text></g><g class=\"plot overlay\" transform=\"translate(171, 46)\"><g class=\"series serie-0 color-0\"><g class=\"dots\"><circle class=\"dot reactive tooltip-trigger\" cx=\"11.7\" cy=\"478.61538461538464\" r=\"2.5\" /><desc class=\"value\">0: 0</desc><desc class=\"x top\">11.7</desc><desc class=\"y top\">478.61538461538464</desc></g><g class=\"dots\"><circle class=\"dot reactive tooltip-trigger\" cx=\"24.658860759493667\" cy=\"41.22033129112771\" r=\"2.5\" /><desc class=\"value\">0.02215189873: 0.9321533923</desc><desc class=\"x \">24.658860759493667</desc><desc class=\"y \">41.22033129112771</desc></g><g class=\"dots\"><circle class=\"dot reactive tooltip-trigger\" cx=\"24.658860759493667\" cy=\"41.22033129112771\" r=\"2.5\" /><desc class=\"value\">0.02215189873: 0.9321533923</desc><desc class=\"x \">24.658860759493667</desc><desc class=\"y \">41.22033129112771</desc></g><g class=\"dots\"><circle class=\"dot reactive tooltip-trigger\" cx=\"24.658860759493667\" cy=\"41.22033129112771\" r=\"2.5\" /><desc class=\"value\">0.02215189873: 0.9321533923</desc><desc class=\"x \">24.658860759493667</desc><desc class=\"y \">41.22033129112771</desc></g><g class=\"dots\"><circle class=\"dot reactive tooltip-trigger\" cx=\"24.658860759493667\" cy=\"41.22033129112771\" r=\"2.5\" /><desc class=\"value\">0.02215189873: 0.9321533923</desc><desc class=\"x \">24.658860759493667</desc><desc class=\"y \">41.22033129112771</desc></g><g class=\"dots\"><circle class=\"dot reactive tooltip-trigger\" cx=\"24.658860759493667\" cy=\"41.22033129112771\" r=\"2.5\" /><desc class=\"value\">0.02215189873: 0.9321533923</desc><desc class=\"x \">24.658860759493667</desc><desc class=\"y \">41.22033129112771</desc></g><g class=\"dots\"><circle class=\"dot reactive tooltip-trigger\" cx=\"24.658860759493667\" cy=\"41.22033129112771\" r=\"2.5\" /><desc class=\"value\">0.02215189873: 0.9321533923</desc><desc class=\"x \">24.658860759493667</desc><desc class=\"y \">41.22033129112771</desc></g><g class=\"dots\"><circle class=\"dot reactive tooltip-trigger\" cx=\"24.658860759493667\" cy=\"41.22033129112771\" r=\"2.5\" /><desc class=\"value\">0.02215189873: 0.9321533923</desc><desc class=\"x \">24.658860759493667</desc><desc class=\"y \">41.22033129112771</desc></g><g class=\"dots\"><circle class=\"dot reactive tooltip-trigger\" cx=\"24.658860759493667\" cy=\"41.22033129112771\" r=\"2.5\" /><desc class=\"value\">0.02215189873: 0.9321533923</desc><desc class=\"x \">24.658860759493667</desc><desc class=\"y \">41.22033129112771</desc></g><g class=\"dots\"><circle class=\"dot reactive tooltip-trigger\" cx=\"24.658860759493667\" cy=\"41.22033129112771\" r=\"2.5\" /><desc class=\"value\">0.02215189873: 0.9321533923</desc><desc class=\"x \">24.658860759493667</desc><desc class=\"y \">41.22033129112771</desc></g><g class=\"dots\"><circle class=\"dot reactive tooltip-trigger\" cx=\"596.6999999999999\" cy=\"9.384615384615415\" r=\"2.5\" /><desc class=\"value\">1: 1</desc><desc class=\"x left\">596.6999999999999</desc><desc class=\"y left\">9.384615384615415</desc></g></g><g class=\"series serie-1 color-1\" /></g><g class=\"plot text-overlay\" transform=\"translate(171, 46)\"><g class=\"series serie-0 color-0\" /><g class=\"series serie-1 color-1\" /></g><g class=\"plot tooltip-overlay\" transform=\"translate(171, 46)\"><g class=\"tooltip\" style=\"opacity: 0\" transform=\"translate(0 0)\"><rect class=\"tooltip-box\" height=\"0\" rx=\"0\" ry=\"0\" width=\"0\" /><g class=\"text\" /></g></g><g class=\"legends\" transform=\"translate(10, 56)\"><g class=\"legend reactive activate-serie\" id=\"activate-serie-0\"><rect class=\"color-0 reactive\" height=\"12\" width=\"12\" x=\"0.0\" y=\"1.0\" /><text x=\"17.0\" y=\"11.2\">ROC curve</text></g><g class=\"legend reactive activate-serie\" id=\"activate-serie-1\"><rect class=\"color-1 reactive\" height=\"12\" width=\"12\" x=\"0.0\" y=\"22.0\" /><text x=\"17.0\" y=\"32.2\">by chance</text></g></g><g class=\"legends\" transform=\"translate(790, 56)\" /></g></svg>"
      ],
      "text/plain": [
       "<pygal.graph.xy.XY at 0x7fe8fc751588>"
      ]
     },
     "execution_count": 13,
     "metadata": {},
     "output_type": "execute_result"
    }
   ],
   "source": [
    "roc = pygal.XY(title = 'ROC curve', x_title='False Positive Rate', y_title='True Positive Rate')\n",
    "roc.add('ROC curve', pt)\n",
    "roc.add('by chance', [(0, 0), (1, 1)], show_dots=False, stroke_style={'width': 3, 'dasharray': 10})\n",
    "roc"
   ]
  },
  {
   "cell_type": "code",
   "execution_count": null,
   "metadata": {},
   "outputs": [],
   "source": []
  }
 ],
 "metadata": {
  "kernelspec": {
   "display_name": "Python 3",
   "language": "python",
   "name": "python3"
  },
  "language_info": {
   "codemirror_mode": {
    "name": "ipython",
    "version": 3
   },
   "file_extension": ".py",
   "mimetype": "text/x-python",
   "name": "python",
   "nbconvert_exporter": "python",
   "pygments_lexer": "ipython3",
   "version": "3.6.5"
  }
 },
 "nbformat": 4,
 "nbformat_minor": 2
}
