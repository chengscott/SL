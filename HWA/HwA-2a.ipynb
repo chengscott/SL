{
 "cells": [
  {
   "cell_type": "markdown",
   "metadata": {},
   "source": [
    "# 2.a Logistic Regression"
   ]
  },
  {
   "cell_type": "code",
   "execution_count": 1,
   "metadata": {},
   "outputs": [],
   "source": [
    "import pandas as pd\n",
    "import numpy as np"
   ]
  },
  {
   "cell_type": "code",
   "execution_count": 2,
   "metadata": {},
   "outputs": [],
   "source": [
    "data = pd.read_csv('train_MNIST_logistic_regression.csv')"
   ]
  },
  {
   "cell_type": "markdown",
   "metadata": {},
   "source": [
    "$X=\\begin{pmatrix} x_1 \\\\ \\vdots \\\\ x_n \\end{pmatrix}$"
   ]
  },
  {
   "cell_type": "code",
   "execution_count": 3,
   "metadata": {},
   "outputs": [],
   "source": [
    "# append 'Intercept' column\n",
    "Xpred = list(data.columns)\n",
    "Xpred.remove('label')\n",
    "Xcols = ['Intercept'] + Xpred\n",
    "\n",
    "n = data.shape[0]\n",
    "p = len(Xpred)\n",
    "data = data.assign(Intercept=np.ones(n))"
   ]
  },
  {
   "cell_type": "code",
   "execution_count": 4,
   "metadata": {},
   "outputs": [],
   "source": [
    "X = data[Xcols].as_matrix()\n",
    "y = list(data.label == 2)"
   ]
  },
  {
   "cell_type": "markdown",
   "metadata": {},
   "source": [
    "### Coefficient\n",
    "$\\beta'=\\beta-\\eta\\nabla J(\\beta)$"
   ]
  },
  {
   "cell_type": "code",
   "execution_count": 5,
   "metadata": {},
   "outputs": [
    {
     "name": "stderr",
     "output_type": "stream",
     "text": [
      "/usr/lib/python3.6/site-packages/ipykernel_launcher.py:8: RuntimeWarning: overflow encountered in exp\n",
      "  \n"
     ]
    }
   ],
   "source": [
    "eta = 0.005\n",
    "beta = np.zeros((1 + p,))\n",
    "\n",
    "for epoch in range(10):\n",
    "    J_beta = 0\n",
    "    for i in range(n):\n",
    "        yi = 2 * y[i] - 1\n",
    "        J_beta = J_beta + np.dot(yi, X[i]) / (1 + np.exp(np.dot(-np.dot(yi, beta.T), X[i])))\n",
    "    beta = beta - eta * J_beta"
   ]
  },
  {
   "cell_type": "markdown",
   "metadata": {},
   "source": [
    "### Logit\n",
    "$p(X)=\\frac{1}{1+e^{-X\\beta}}$"
   ]
  },
  {
   "cell_type": "code",
   "execution_count": 6,
   "metadata": {},
   "outputs": [
    {
     "name": "stderr",
     "output_type": "stream",
     "text": [
      "/usr/lib/python3.6/site-packages/ipykernel_launcher.py:1: RuntimeWarning: overflow encountered in exp\n",
      "  \"\"\"Entry point for launching an IPython kernel.\n"
     ]
    }
   ],
   "source": [
    "train_result = 1 / (1 + np.exp(-np.dot(X, beta)))"
   ]
  },
  {
   "cell_type": "markdown",
   "metadata": {},
   "source": [
    "### Test"
   ]
  },
  {
   "cell_type": "code",
   "execution_count": 7,
   "metadata": {},
   "outputs": [],
   "source": [
    "test_data = pd.read_csv('./test_MNIST_logistic_regression.csv', names=Xpred)\n",
    "label_data = pd.read_csv('./label_MNIST_logistic_regression.csv', header=None)"
   ]
  },
  {
   "cell_type": "code",
   "execution_count": 8,
   "metadata": {},
   "outputs": [],
   "source": [
    "test_data = test_data.assign(Intercept=np.ones(test_data.shape[0]))\n",
    "test_label = list(label_data[0] == 2)"
   ]
  },
  {
   "cell_type": "code",
   "execution_count": 9,
   "metadata": {
    "scrolled": true
   },
   "outputs": [
    {
     "name": "stderr",
     "output_type": "stream",
     "text": [
      "/usr/lib/python3.6/site-packages/ipykernel_launcher.py:1: RuntimeWarning: overflow encountered in exp\n",
      "  \"\"\"Entry point for launching an IPython kernel.\n"
     ]
    }
   ],
   "source": [
    "test_result = 1 / (1 + np.exp(-np.dot(test_data, beta)))\n",
    "pred = [x < 0.5 for x in test_result]"
   ]
  },
  {
   "cell_type": "markdown",
   "metadata": {},
   "source": [
    "### Confusion Matrix"
   ]
  },
  {
   "cell_type": "code",
   "execution_count": 10,
   "metadata": {},
   "outputs": [],
   "source": [
    "confusion_list = list(zip(test_label, pred))\n",
    "cmatrix = [[confusion_list.count((k1, k2)) for k2 in [False, True]] for k1 in [False, True]]"
   ]
  },
  {
   "cell_type": "code",
   "execution_count": 11,
   "metadata": {},
   "outputs": [
    {
     "data": {
      "text/html": [
       "<div>\n",
       "<style scoped>\n",
       "    .dataframe tbody tr th:only-of-type {\n",
       "        vertical-align: middle;\n",
       "    }\n",
       "\n",
       "    .dataframe tbody tr th {\n",
       "        vertical-align: top;\n",
       "    }\n",
       "\n",
       "    .dataframe thead tr th {\n",
       "        text-align: left;\n",
       "    }\n",
       "</style>\n",
       "<table border=\"1\" class=\"dataframe\">\n",
       "  <thead>\n",
       "    <tr>\n",
       "      <th></th>\n",
       "      <th></th>\n",
       "      <th colspan=\"3\" halign=\"left\">Confusion Matrix</th>\n",
       "    </tr>\n",
       "    <tr>\n",
       "      <th></th>\n",
       "      <th></th>\n",
       "      <th colspan=\"3\" halign=\"left\">True class</th>\n",
       "    </tr>\n",
       "    <tr>\n",
       "      <th></th>\n",
       "      <th></th>\n",
       "      <th>0</th>\n",
       "      <th>2</th>\n",
       "      <th>Total</th>\n",
       "    </tr>\n",
       "  </thead>\n",
       "  <tbody>\n",
       "    <tr>\n",
       "      <th rowspan=\"3\" valign=\"top\">Predicted class</th>\n",
       "      <th>0</th>\n",
       "      <td>656</td>\n",
       "      <td>22</td>\n",
       "      <td>678</td>\n",
       "    </tr>\n",
       "    <tr>\n",
       "      <th>2</th>\n",
       "      <td>15</td>\n",
       "      <td>617</td>\n",
       "      <td>632</td>\n",
       "    </tr>\n",
       "    <tr>\n",
       "      <th>Total</th>\n",
       "      <td>671</td>\n",
       "      <td>639</td>\n",
       "      <td>1310</td>\n",
       "    </tr>\n",
       "  </tbody>\n",
       "</table>\n",
       "</div>"
      ],
      "text/plain": [
       "                      Confusion Matrix           \n",
       "                            True class           \n",
       "                                     0    2 Total\n",
       "Predicted class 0                  656   22   678\n",
       "                2                   15  617   632\n",
       "                Total              671  639  1310"
      ]
     },
     "execution_count": 11,
     "metadata": {},
     "output_type": "execute_result"
    }
   ],
   "source": [
    "pd.DataFrame([\n",
    "    *[[*cmatrix[i], sum(cmatrix[i])] for i in range(2)],\n",
    "    list(np.sum(cmatrix, axis=0)) + [np.sum(cmatrix)]],\n",
    "    columns=[['Confusion Matrix'] * 3, ['True class'] * 3, [0, 2, 'Total']],\n",
    "    index=[['Predicted class'] * 3, [0, 2, 'Total']]\n",
    ")"
   ]
  },
  {
   "cell_type": "markdown",
   "metadata": {},
   "source": [
    "### ROC curve"
   ]
  },
  {
   "cell_type": "code",
   "execution_count": 12,
   "metadata": {},
   "outputs": [
    {
     "data": {
      "text/plain": [
       "[(0.09090909090909091, 0.48200312989045385),\n",
       " (0.09090909090909091, 0.48200312989045385),\n",
       " (0.09090909090909091, 0.48200312989045385),\n",
       " (0.09090909090909091, 0.48200312989045385),\n",
       " (0.09090909090909091, 0.48200312989045385),\n",
       " (0.09090909090909091, 0.48200312989045385),\n",
       " (0.09090909090909091, 0.48200312989045385),\n",
       " (0.09090909090909091, 0.48200312989045385),\n",
       " (0.09090909090909091, 0.48200312989045385)]"
      ]
     },
     "execution_count": 12,
     "metadata": {},
     "output_type": "execute_result"
    }
   ],
   "source": [
    "pt = []\n",
    "for p in np.arange(0.1, 1.0, 0.1):\n",
    "    pred = test_result < p\n",
    "    clist = list(zip(y, pred))\n",
    "    TPR = clist.count((False, False)) / y.count(False)\n",
    "    FPR = clist.count((False, True)) / list(pred).count(True)\n",
    "    pt.append((TPR, FPR))\n",
    "pt"
   ]
  },
  {
   "cell_type": "code",
   "execution_count": null,
   "metadata": {},
   "outputs": [],
   "source": []
  }
 ],
 "metadata": {
  "kernelspec": {
   "display_name": "Python 3",
   "language": "python",
   "name": "python3"
  },
  "language_info": {
   "codemirror_mode": {
    "name": "ipython",
    "version": 3
   },
   "file_extension": ".py",
   "mimetype": "text/x-python",
   "name": "python",
   "nbconvert_exporter": "python",
   "pygments_lexer": "ipython3",
   "version": "3.6.4"
  }
 },
 "nbformat": 4,
 "nbformat_minor": 2
}
