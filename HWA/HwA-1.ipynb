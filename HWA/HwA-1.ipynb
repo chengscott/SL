{
 "cells": [
  {
   "cell_type": "markdown",
   "metadata": {},
   "source": [
    "# 1. Linear Regression"
   ]
  },
  {
   "cell_type": "code",
   "execution_count": 1,
   "metadata": {},
   "outputs": [],
   "source": [
    "import pandas as pd\n",
    "import numpy as np"
   ]
  },
  {
   "cell_type": "code",
   "execution_count": 2,
   "metadata": {},
   "outputs": [],
   "source": [
    "# https://taqm.epa.gov.tw/taqm/tw/HourlyData.aspx\n",
    "raw_data = pd.read_csv('./data_Hsinchu.csv',\n",
    "                 usecols=[0] + list(range(2, 27)),\n",
    "                 na_values=['#', '*', 'x', 'NA', 'NR'],\n",
    "                 encoding='big5').fillna(0)\n",
    "data = raw_data.pivot(index='測項', columns='日期').T"
   ]
  },
  {
   "cell_type": "markdown",
   "metadata": {},
   "source": [
    "$X=\\begin{pmatrix} 1 & x_1 & \\cdots & x_p \\end{pmatrix}$"
   ]
  },
  {
   "cell_type": "code",
   "execution_count": 3,
   "metadata": {},
   "outputs": [],
   "source": [
    "# append 'Intercept' column\n",
    "Xpred = list(data.columns)\n",
    "Xpred.remove('PM2.5')\n",
    "Xcols = ['Intercept'] + Xpred\n",
    "\n",
    "n = data.shape[0]\n",
    "p = len(Xpred)\n",
    "data = data.assign(Intercept=np.ones(n))"
   ]
  },
  {
   "cell_type": "markdown",
   "metadata": {},
   "source": [
    "$y=X\\hat\\beta$"
   ]
  },
  {
   "cell_type": "code",
   "execution_count": 4,
   "metadata": {},
   "outputs": [],
   "source": [
    "X = data[Xcols]\n",
    "y = data[['PM2.5']]"
   ]
  },
  {
   "cell_type": "markdown",
   "metadata": {},
   "source": [
    "### Coefficient\n",
    "$\\hat\\beta=(X^tX)^{-1}X^ty$"
   ]
  },
  {
   "cell_type": "code",
   "execution_count": 5,
   "metadata": {},
   "outputs": [],
   "source": [
    "invXtX = np.linalg.inv(np.dot(X.T, X))\n",
    "beta_hat = np.dot(np.dot(invXtX, X.T), y)\n",
    "beta_hat_v = beta_hat.reshape(18)"
   ]
  },
  {
   "cell_type": "markdown",
   "metadata": {},
   "source": [
    "### Std. Error\n",
    "$RSS=\\displaystyle\\sum_{i=1}^n(y_i-\\hat y_i))^2$\n",
    "\n",
    "$\\hat\\sigma^2=\\frac{1}{n-p-1}RSS$\n",
    "\n",
    "$\\hat{SE}(\\hat\\beta)=\\sqrt{\\hat\\sigma^2 diag((X^tX)^{-1})}$"
   ]
  },
  {
   "cell_type": "code",
   "execution_count": 6,
   "metadata": {},
   "outputs": [],
   "source": [
    "rss = float(np.sum((y - np.dot(X, beta_hat)) ** 2))\n",
    "sigma2_hat = rss  / (n - p - 1)\n",
    "se_hat = np.sqrt(sigma2_hat * np.diag(invXtX))"
   ]
  },
  {
   "cell_type": "markdown",
   "metadata": {},
   "source": [
    "### t-statistic\n",
    "$t=\\frac{\\hat\\beta}{\\hat{SE}(\\hat\\beta)}$"
   ]
  },
  {
   "cell_type": "code",
   "execution_count": 7,
   "metadata": {},
   "outputs": [],
   "source": [
    "tstat = beta_hat_v / se_hat"
   ]
  },
  {
   "cell_type": "code",
   "execution_count": 8,
   "metadata": {},
   "outputs": [
    {
     "data": {
      "text/html": [
       "<div>\n",
       "<style scoped>\n",
       "    .dataframe tbody tr th:only-of-type {\n",
       "        vertical-align: middle;\n",
       "    }\n",
       "\n",
       "    .dataframe tbody tr th {\n",
       "        vertical-align: top;\n",
       "    }\n",
       "\n",
       "    .dataframe thead th {\n",
       "        text-align: right;\n",
       "    }\n",
       "</style>\n",
       "<table border=\"1\" class=\"dataframe\">\n",
       "  <thead>\n",
       "    <tr style=\"text-align: right;\">\n",
       "      <th></th>\n",
       "      <th>Coefficient</th>\n",
       "      <th>Std. Error</th>\n",
       "      <th>t-statistic</th>\n",
       "    </tr>\n",
       "  </thead>\n",
       "  <tbody>\n",
       "    <tr>\n",
       "      <th>Intercept</th>\n",
       "      <td>-16.441063</td>\n",
       "      <td>2.788240</td>\n",
       "      <td>-5.896575</td>\n",
       "    </tr>\n",
       "    <tr>\n",
       "      <th>AMB_TEMP</th>\n",
       "      <td>-0.256375</td>\n",
       "      <td>0.029344</td>\n",
       "      <td>-8.736793</td>\n",
       "    </tr>\n",
       "    <tr>\n",
       "      <th>CH4</th>\n",
       "      <td>9.363683</td>\n",
       "      <td>3.081798</td>\n",
       "      <td>3.038383</td>\n",
       "    </tr>\n",
       "    <tr>\n",
       "      <th>CO</th>\n",
       "      <td>22.945558</td>\n",
       "      <td>1.225114</td>\n",
       "      <td>18.729323</td>\n",
       "    </tr>\n",
       "    <tr>\n",
       "      <th>NMHC</th>\n",
       "      <td>-7.449827</td>\n",
       "      <td>3.117487</td>\n",
       "      <td>-2.389690</td>\n",
       "    </tr>\n",
       "    <tr>\n",
       "      <th>NO</th>\n",
       "      <td>-0.103401</td>\n",
       "      <td>0.356399</td>\n",
       "      <td>-0.290126</td>\n",
       "    </tr>\n",
       "    <tr>\n",
       "      <th>NO2</th>\n",
       "      <td>0.234533</td>\n",
       "      <td>0.353019</td>\n",
       "      <td>0.664363</td>\n",
       "    </tr>\n",
       "    <tr>\n",
       "      <th>NOx</th>\n",
       "      <td>-0.276370</td>\n",
       "      <td>0.353746</td>\n",
       "      <td>-0.781268</td>\n",
       "    </tr>\n",
       "    <tr>\n",
       "      <th>O3</th>\n",
       "      <td>0.090552</td>\n",
       "      <td>0.009403</td>\n",
       "      <td>9.630123</td>\n",
       "    </tr>\n",
       "    <tr>\n",
       "      <th>PM10</th>\n",
       "      <td>0.240746</td>\n",
       "      <td>0.004270</td>\n",
       "      <td>56.378428</td>\n",
       "    </tr>\n",
       "    <tr>\n",
       "      <th>RAINFALL</th>\n",
       "      <td>-0.297719</td>\n",
       "      <td>0.113022</td>\n",
       "      <td>-2.634158</td>\n",
       "    </tr>\n",
       "    <tr>\n",
       "      <th>RH</th>\n",
       "      <td>-0.004982</td>\n",
       "      <td>0.014337</td>\n",
       "      <td>-0.347488</td>\n",
       "    </tr>\n",
       "    <tr>\n",
       "      <th>SO2</th>\n",
       "      <td>1.363732</td>\n",
       "      <td>0.120153</td>\n",
       "      <td>11.349996</td>\n",
       "    </tr>\n",
       "    <tr>\n",
       "      <th>THC</th>\n",
       "      <td>1.108226</td>\n",
       "      <td>3.074493</td>\n",
       "      <td>0.360458</td>\n",
       "    </tr>\n",
       "    <tr>\n",
       "      <th>WD_HR</th>\n",
       "      <td>0.000061</td>\n",
       "      <td>0.002963</td>\n",
       "      <td>0.020592</td>\n",
       "    </tr>\n",
       "    <tr>\n",
       "      <th>WIND_DIREC</th>\n",
       "      <td>0.005828</td>\n",
       "      <td>0.002923</td>\n",
       "      <td>1.993645</td>\n",
       "    </tr>\n",
       "    <tr>\n",
       "      <th>WIND_SPEED</th>\n",
       "      <td>0.149399</td>\n",
       "      <td>0.286458</td>\n",
       "      <td>0.521539</td>\n",
       "    </tr>\n",
       "    <tr>\n",
       "      <th>WS_HR</th>\n",
       "      <td>-0.909746</td>\n",
       "      <td>0.333691</td>\n",
       "      <td>-2.726314</td>\n",
       "    </tr>\n",
       "  </tbody>\n",
       "</table>\n",
       "</div>"
      ],
      "text/plain": [
       "            Coefficient  Std. Error  t-statistic\n",
       "Intercept    -16.441063    2.788240    -5.896575\n",
       "AMB_TEMP      -0.256375    0.029344    -8.736793\n",
       "CH4            9.363683    3.081798     3.038383\n",
       "CO            22.945558    1.225114    18.729323\n",
       "NMHC          -7.449827    3.117487    -2.389690\n",
       "NO            -0.103401    0.356399    -0.290126\n",
       "NO2            0.234533    0.353019     0.664363\n",
       "NOx           -0.276370    0.353746    -0.781268\n",
       "O3             0.090552    0.009403     9.630123\n",
       "PM10           0.240746    0.004270    56.378428\n",
       "RAINFALL      -0.297719    0.113022    -2.634158\n",
       "RH            -0.004982    0.014337    -0.347488\n",
       "SO2            1.363732    0.120153    11.349996\n",
       "THC            1.108226    3.074493     0.360458\n",
       "WD_HR          0.000061    0.002963     0.020592\n",
       "WIND_DIREC     0.005828    0.002923     1.993645\n",
       "WIND_SPEED     0.149399    0.286458     0.521539\n",
       "WS_HR         -0.909746    0.333691    -2.726314"
      ]
     },
     "execution_count": 8,
     "metadata": {},
     "output_type": "execute_result"
    }
   ],
   "source": [
    "# result\n",
    "pd.DataFrame({\n",
    "    'Coefficient': beta_hat_v,\n",
    "    'Std. Error': se_hat,\n",
    "    't-statistic': tstat},\n",
    "    index=Xcols)"
   ]
  },
  {
   "cell_type": "code",
   "execution_count": 9,
   "metadata": {},
   "outputs": [
    {
     "data": {
      "text/html": [
       "<div>\n",
       "<style scoped>\n",
       "    .dataframe tbody tr th:only-of-type {\n",
       "        vertical-align: middle;\n",
       "    }\n",
       "\n",
       "    .dataframe tbody tr th {\n",
       "        vertical-align: top;\n",
       "    }\n",
       "\n",
       "    .dataframe thead th {\n",
       "        text-align: right;\n",
       "    }\n",
       "</style>\n",
       "<table border=\"1\" class=\"dataframe\">\n",
       "  <thead>\n",
       "    <tr style=\"text-align: right;\">\n",
       "      <th></th>\n",
       "      <th>Coefficient</th>\n",
       "      <th>Std. Error</th>\n",
       "      <th>t-statistic</th>\n",
       "    </tr>\n",
       "  </thead>\n",
       "  <tbody>\n",
       "    <tr>\n",
       "      <th>Intercept</th>\n",
       "      <td>-0.797494</td>\n",
       "      <td>0.301421</td>\n",
       "      <td>-2.645781</td>\n",
       "    </tr>\n",
       "    <tr>\n",
       "      <th>CO</th>\n",
       "      <td>19.731511</td>\n",
       "      <td>0.755315</td>\n",
       "      <td>26.123538</td>\n",
       "    </tr>\n",
       "    <tr>\n",
       "      <th>PM10</th>\n",
       "      <td>0.271850</td>\n",
       "      <td>0.004129</td>\n",
       "      <td>65.844846</td>\n",
       "    </tr>\n",
       "  </tbody>\n",
       "</table>\n",
       "</div>"
      ],
      "text/plain": [
       "           Coefficient  Std. Error  t-statistic\n",
       "Intercept    -0.797494    0.301421    -2.645781\n",
       "CO           19.731511    0.755315    26.123538\n",
       "PM10          0.271850    0.004129    65.844846"
      ]
     },
     "execution_count": 9,
     "metadata": {},
     "output_type": "execute_result"
    }
   ],
   "source": [
    "import itertools\n",
    "p = 2\n",
    "Xperm = list(itertools.permutations(Xpred, p))\n",
    "coef_list = []\n",
    "rss_list = []\n",
    "invXtX_list = []\n",
    "for Xp in Xperm:\n",
    "    Xcols = ['Intercept'] + list(Xp)\n",
    "    X = data[Xcols]\n",
    "    invXtX = np.linalg.inv(np.dot(X.T, X))\n",
    "    invXtX_list.append(invXtX)\n",
    "    beta_tmp = np.dot(np.dot(invXtX, X.T), y)\n",
    "    coef_list.append(beta_tmp)\n",
    "    rss_list.append(float(np.sum((y - np.dot(X, beta_tmp)) ** 2)))\n",
    "# argmin rss\n",
    "idx = rss_list.index(min(rss_list))\n",
    "features = list(Xperm[idx])\n",
    "coef = coef_list[idx]\n",
    "# std err\n",
    "sigma2_hat = rss_list[idx]  / (n - p - 1)\n",
    "se_hat = np.sqrt(sigma2_hat * np.diag(invXtX_list[idx]))\n",
    "# t-statistic\n",
    "tstat = coef.reshape(3) / se_hat\n",
    "# result\n",
    "pd.DataFrame({\n",
    "    'Coefficient': coef.reshape(3),\n",
    "    'Std. Error': se_hat,\n",
    "    't-statistic': tstat},\n",
    "    index=['Intercept'] + features)"
   ]
  },
  {
   "cell_type": "code",
   "execution_count": null,
   "metadata": {},
   "outputs": [],
   "source": []
  }
 ],
 "metadata": {
  "kernelspec": {
   "display_name": "Python 3",
   "language": "python",
   "name": "python3"
  },
  "language_info": {
   "codemirror_mode": {
    "name": "ipython",
    "version": 3
   },
   "file_extension": ".py",
   "mimetype": "text/x-python",
   "name": "python",
   "nbconvert_exporter": "python",
   "pygments_lexer": "ipython3",
   "version": "3.6.4"
  }
 },
 "nbformat": 4,
 "nbformat_minor": 2
}
