{
 "cells": [
  {
   "cell_type": "markdown",
   "metadata": {},
   "source": [
    "# 2.b Linear Discriminant Analysis"
   ]
  },
  {
   "cell_type": "code",
   "execution_count": 1,
   "metadata": {},
   "outputs": [],
   "source": [
    "import pandas as pd\n",
    "import numpy as np"
   ]
  },
  {
   "cell_type": "code",
   "execution_count": 2,
   "metadata": {},
   "outputs": [],
   "source": [
    "data = pd.read_csv('./train_MNIST_LDA.csv')"
   ]
  },
  {
   "cell_type": "markdown",
   "metadata": {},
   "source": [
    "$X=\\begin{pmatrix} x_1 \\\\ \\vdots \\\\ x_n \\end{pmatrix}$"
   ]
  },
  {
   "cell_type": "code",
   "execution_count": 3,
   "metadata": {},
   "outputs": [],
   "source": [
    "Xpred = list(data.columns)\n",
    "Xpred.remove('label')\n",
    "Xcols = Xpred\n",
    "\n",
    "n = data.shape[0]\n",
    "p = len(Xpred)"
   ]
  },
  {
   "cell_type": "code",
   "execution_count": 4,
   "metadata": {},
   "outputs": [],
   "source": [
    "X = data[Xcols].as_matrix()\n",
    "y = list(data.label)"
   ]
  },
  {
   "cell_type": "markdown",
   "metadata": {},
   "source": [
    "### Coefficient"
   ]
  },
  {
   "cell_type": "code",
   "execution_count": 5,
   "metadata": {},
   "outputs": [],
   "source": [
    "K = [0, 2, 4]\n",
    "nk = {}\n",
    "mu = {}\n",
    "sig = {}\n",
    "for k in K:\n",
    "    nk[k] = y.count(k)\n",
    "    mu[k] = 0\n",
    "    sig[k] = 0\n",
    "for i in range(n):\n",
    "    k = y[i]\n",
    "    mu[k] = mu[k] + X[i]\n",
    "for k in K:\n",
    "    mu[k] = mu[k] / nk[k]\n",
    "for i in range(n):\n",
    "    k = y[i]\n",
    "    sig[k] = sig[k] + np.outer(X[i] - mu[k], X[i] - mu[k])\n",
    "sig_hat = sum(sig.values()) / (n - len(K))\n",
    "# sig_hat is singular, use pinv instead\n",
    "sig_inv = np.linalg.pinv(sig_hat)"
   ]
  },
  {
   "cell_type": "markdown",
   "metadata": {},
   "source": [
    "### Test"
   ]
  },
  {
   "cell_type": "code",
   "execution_count": 6,
   "metadata": {},
   "outputs": [],
   "source": [
    "test_data = pd.read_csv('./test_MNIST_LDA.csv', names=Xpred)\n",
    "label_data = pd.read_csv('./label_MNIST_LDA.csv', header=None)"
   ]
  },
  {
   "cell_type": "code",
   "execution_count": 7,
   "metadata": {},
   "outputs": [],
   "source": [
    "yk = {}\n",
    "for k in K:\n",
    "    yk[k] = np.dot(np.dot(test_data, sig_inv), mu[k])\n",
    "    - np.dot(np.dot(mu[k].T, sig_inv), mu[k]) / 2\n",
    "    + np.log(nk[k] / n)"
   ]
  },
  {
   "cell_type": "code",
   "execution_count": 8,
   "metadata": {},
   "outputs": [],
   "source": [
    "delta = np.argmax(list(yk.values()), axis=0)\n",
    "res = [K[k] for k in delta]"
   ]
  },
  {
   "cell_type": "markdown",
   "metadata": {},
   "source": [
    "### Confusion Matrix"
   ]
  },
  {
   "cell_type": "code",
   "execution_count": 9,
   "metadata": {},
   "outputs": [],
   "source": [
    "confusion_list = list(zip(list(label_data[0]), res))\n",
    "cmatrix = [[confusion_list.count((k1, k2)) for k2 in K] for k1 in K]"
   ]
  },
  {
   "cell_type": "code",
   "execution_count": 10,
   "metadata": {},
   "outputs": [
    {
     "data": {
      "text/html": [
       "<div>\n",
       "<style scoped>\n",
       "    .dataframe tbody tr th:only-of-type {\n",
       "        vertical-align: middle;\n",
       "    }\n",
       "\n",
       "    .dataframe tbody tr th {\n",
       "        vertical-align: top;\n",
       "    }\n",
       "\n",
       "    .dataframe thead tr th {\n",
       "        text-align: left;\n",
       "    }\n",
       "</style>\n",
       "<table border=\"1\" class=\"dataframe\">\n",
       "  <thead>\n",
       "    <tr>\n",
       "      <th></th>\n",
       "      <th></th>\n",
       "      <th colspan=\"4\" halign=\"left\"></th>\n",
       "    </tr>\n",
       "    <tr>\n",
       "      <th></th>\n",
       "      <th></th>\n",
       "      <th colspan=\"4\" halign=\"left\">Confusion Matrix</th>\n",
       "    </tr>\n",
       "    <tr>\n",
       "      <th></th>\n",
       "      <th></th>\n",
       "      <th colspan=\"4\" halign=\"left\">True class</th>\n",
       "    </tr>\n",
       "    <tr>\n",
       "      <th></th>\n",
       "      <th></th>\n",
       "      <th>0</th>\n",
       "      <th>2</th>\n",
       "      <th>4</th>\n",
       "      <th>Total</th>\n",
       "    </tr>\n",
       "  </thead>\n",
       "  <tbody>\n",
       "    <tr>\n",
       "      <th rowspan=\"4\" valign=\"top\">Predicted class</th>\n",
       "      <th>0</th>\n",
       "      <td>472</td>\n",
       "      <td>7</td>\n",
       "      <td>1</td>\n",
       "      <td>480</td>\n",
       "    </tr>\n",
       "    <tr>\n",
       "      <th>2</th>\n",
       "      <td>12</td>\n",
       "      <td>408</td>\n",
       "      <td>3</td>\n",
       "      <td>423</td>\n",
       "    </tr>\n",
       "    <tr>\n",
       "      <th>4</th>\n",
       "      <td>1</td>\n",
       "      <td>13</td>\n",
       "      <td>465</td>\n",
       "      <td>479</td>\n",
       "    </tr>\n",
       "    <tr>\n",
       "      <th>Total</th>\n",
       "      <td>485</td>\n",
       "      <td>428</td>\n",
       "      <td>469</td>\n",
       "      <td>1382</td>\n",
       "    </tr>\n",
       "  </tbody>\n",
       "</table>\n",
       "</div>"
      ],
      "text/plain": [
       "                                                      \n",
       "                      Confusion Matrix                \n",
       "                            True class                \n",
       "                                     0    2    4 Total\n",
       "Predicted class 0                  472    7    1   480\n",
       "                2                   12  408    3   423\n",
       "                4                    1   13  465   479\n",
       "                Total              485  428  469  1382"
      ]
     },
     "execution_count": 10,
     "metadata": {},
     "output_type": "execute_result"
    }
   ],
   "source": [
    "pd.DataFrame([\n",
    "    *[[*cmatrix[i], sum(cmatrix[i])] for i in range(3)],\n",
    "    list(np.sum(cmatrix, axis=0)) + [np.sum(cmatrix)]],\n",
    "    columns=[[''] * 4, ['Confusion Matrix'] * 4, ['True class'] * 4, [*K, 'Total']],\n",
    "    index=[['Predicted class'] * 4, [*K, 'Total']]\n",
    ")"
   ]
  },
  {
   "cell_type": "code",
   "execution_count": null,
   "metadata": {},
   "outputs": [],
   "source": []
  }
 ],
 "metadata": {
  "kernelspec": {
   "display_name": "Python 3",
   "language": "python",
   "name": "python3"
  },
  "language_info": {
   "codemirror_mode": {
    "name": "ipython",
    "version": 3
   },
   "file_extension": ".py",
   "mimetype": "text/x-python",
   "name": "python",
   "nbconvert_exporter": "python",
   "pygments_lexer": "ipython3",
   "version": "3.6.4"
  }
 },
 "nbformat": 4,
 "nbformat_minor": 2
}
